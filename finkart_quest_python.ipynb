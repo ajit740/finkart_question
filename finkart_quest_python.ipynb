{
 "cells": [
  {
   "cell_type": "code",
   "execution_count": null,
   "id": "48e9d895",
   "metadata": {},
   "outputs": [],
   "source": [
    "def longest_commonn_string(str1,str2):\n",
    "    lengths=[[0 for_ in range(length(str2)+1)]for_ in range(len(str1+1)+1)]\n",
    "    longest_substring=\"\"\n",
    "    for i,char1 in enumerate(str1):\n",
    "        for j, char2 in enumerate(str2):\n",
    "            if char1==char2:\n",
    "                length[i+1][j+1]=length[i][j]+1\n",
    "                if lengths[i+1][j+1]>len(longest_sustring):\n",
    "                    longest_substring=str1[i-lengths[i+1][j+1]+1:i+1]\n",
    "    return longest_substring\n",
    "print(longest_common_substring(\"hellofinkart\",\"finkart\")\n",
    "      "
   ]
  }
 ],
 "metadata": {
  "kernelspec": {
   "display_name": "Python 3 (ipykernel)",
   "language": "python",
   "name": "python3"
  },
  "language_info": {
   "codemirror_mode": {
    "name": "ipython",
    "version": 3
   },
   "file_extension": ".py",
   "mimetype": "text/x-python",
   "name": "python",
   "nbconvert_exporter": "python",
   "pygments_lexer": "ipython3",
   "version": "3.9.7"
  }
 },
 "nbformat": 4,
 "nbformat_minor": 5
}
